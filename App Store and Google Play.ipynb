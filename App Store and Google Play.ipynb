{
 "cells": [
  {
   "cell_type": "markdown",
   "metadata": {},
   "source": [
    "# Profitable App Profiles for the App Store and Google Play Market\n",
    "\n",
    "This project will analyze the data in iOS app store and Android Google Play to enable our team of developers to make data driven decision with respect to the apps they build. \n",
    "\n",
    "The purpose of the company is to build apps that are free to download and install, and our main source of revenue consists of in-app ads. This means that our revenue for any given app is mostly influenced by the number of users that use our app. \n",
    "\n",
    "Our goal for this project is to analyze data to help our developers understand what kinds of apps are likely to attract more users."
   ]
  },
  {
   "cell_type": "markdown",
   "metadata": {},
   "source": [
    "## Opening and Exploring Data\n",
    "Collecting data for over 4 million apps requires a significant amount of time and money, so we'll try to analyze a sample of the data instead. Luckily, these are two data sets that seem suitable for our goals:\n",
    "<ul>\n",
    "<li> A data set containing data about approximately 10,000 Android apps from Google Play; the data was collected in August 2018.</li>\n",
    "<li>A data set containing data about approximately 7,000 iOS apps from the App Store; the data was collected in July 2017. </li>\n",
    "\n",
    "Let start by opening the two data sets:\n"
   ]
  },
  {
   "cell_type": "code",
   "execution_count": 1,
   "metadata": {},
   "outputs": [],
   "source": [
    "open1= open('AppleStore.csv')\n",
    "open2 = open('googleplaystore.csv')\n",
    "from csv import reader\n",
    "read1 = reader(open1)\n",
    "read2 = reader(open2)\n",
    "apps_data = list(read1)\n",
    "apple_header = apps_data[0]\n",
    "apple = apps_data[1:]\n",
    "goog_data = list(read2)\n",
    "google_header = goog_data[0]\n",
    "google = goog_data[1:]"
   ]
  },
  {
   "cell_type": "markdown",
   "metadata": {},
   "source": [
    "To make it easier to explore the data, we define the function `explore_data` which can be use repeatedly to explore many data sets. We will also add options to our function to display the number of rows and columns of any data set."
   ]
  },
  {
   "cell_type": "code",
   "execution_count": 2,
   "metadata": {
    "collapsed": true
   },
   "outputs": [],
   "source": [
    "def explore_data(dataset, start, end, rows_and_columns = False):\n",
    "    dataset_slice = dataset[start:end]\n",
    "    for row in dataset_slice:\n",
    "        print(row)\n",
    "        print('\\n')\n",
    "    if rows_and_columns: \n",
    "        print('Number of rows:', len(dataset))\n",
    "        print('Number of columns:',len(dataset[0]))"
   ]
  },
  {
   "cell_type": "markdown",
   "metadata": {},
   "source": [
    "We can use the function `explore_data` to display the first 4 rows of the Apple Store data: "
   ]
  },
  {
   "cell_type": "code",
   "execution_count": 3,
   "metadata": {},
   "outputs": [
    {
     "name": "stdout",
     "output_type": "stream",
     "text": [
      "['id', 'track_name', 'size_bytes', 'currency', 'price', 'rating_count_tot', 'rating_count_ver', 'user_rating', 'user_rating_ver', 'ver', 'cont_rating', 'prime_genre', 'sup_devices.num', 'ipadSc_urls.num', 'lang.num', 'vpp_lic']\n",
      "\n",
      "\n",
      "['284882215', 'Facebook', '389879808', 'USD', '0.0', '2974676', '212', '3.5', '3.5', '95.0', '4+', 'Social Networking', '37', '1', '29', '1']\n",
      "\n",
      "\n",
      "['389801252', 'Instagram', '113954816', 'USD', '0.0', '2161558', '1289', '4.5', '4.0', '10.23', '12+', 'Photo & Video', '37', '0', '29', '1']\n",
      "\n",
      "\n",
      "['529479190', 'Clash of Clans', '116476928', 'USD', '0.0', '2130805', '579', '4.5', '4.5', '9.24.12', '9+', 'Games', '38', '5', '18', '1']\n",
      "\n",
      "\n",
      "['420009108', 'Temple Run', '65921024', 'USD', '0.0', '1724546', '3842', '4.5', '4.0', '1.6.2', '9+', 'Games', '40', '5', '1', '1']\n",
      "\n",
      "\n",
      "Number of rows: 7197\n",
      "Number of columns: 16\n"
     ]
    }
   ],
   "source": [
    "print(apple_header)\n",
    "print('\\n')\n",
    "explore_data(apple,0,4,rows_and_columns = True)"
   ]
  },
  {
   "cell_type": "markdown",
   "metadata": {},
   "source": [
    "At the first glance, we can see that the Apple Store data has 7197 apps and 16 columns. The columns which might be useful for our analysis are: `track_name`, `rating_count_tot`, `rating_count_ver`, `user_rating`, `user_rating_ver`, `prime_genre`.\n",
    "\n",
    "Now let use the function `explore_data` with the data set of Google Play:"
   ]
  },
  {
   "cell_type": "code",
   "execution_count": 4,
   "metadata": {},
   "outputs": [
    {
     "name": "stdout",
     "output_type": "stream",
     "text": [
      "['App', 'Category', 'Rating', 'Reviews', 'Size', 'Installs', 'Type', 'Price', 'Content Rating', 'Genres', 'Last Updated', 'Current Ver', 'Android Ver']\n",
      "\n",
      "\n",
      "['Photo Editor & Candy Camera & Grid & ScrapBook', 'ART_AND_DESIGN', '4.1', '159', '19M', '10,000+', 'Free', '0', 'Everyone', 'Art & Design', 'January 7, 2018', '1.0.0', '4.0.3 and up']\n",
      "\n",
      "\n",
      "['Coloring book moana', 'ART_AND_DESIGN', '3.9', '967', '14M', '500,000+', 'Free', '0', 'Everyone', 'Art & Design;Pretend Play', 'January 15, 2018', '2.0.0', '4.0.3 and up']\n",
      "\n",
      "\n",
      "['U Launcher Lite – FREE Live Cool Themes, Hide Apps', 'ART_AND_DESIGN', '4.7', '87510', '8.7M', '5,000,000+', 'Free', '0', 'Everyone', 'Art & Design', 'August 1, 2018', '1.2.4', '4.0.3 and up']\n",
      "\n",
      "\n",
      "['Sketch - Draw & Paint', 'ART_AND_DESIGN', '4.5', '215644', '25M', '50,000,000+', 'Free', '0', 'Teen', 'Art & Design', 'June 8, 2018', 'Varies with device', '4.2 and up']\n",
      "\n",
      "\n",
      "Number of rows: 10841\n",
      "Number of columns: 13\n"
     ]
    }
   ],
   "source": [
    "print(google_header)\n",
    "print('\\n')\n",
    "explore_data(google,0,4,rows_and_columns = True)"
   ]
  },
  {
   "cell_type": "markdown",
   "metadata": {},
   "source": [
    "We can see that the Google Play data has 10841 apps and 13 columns. At quick glance, the columns which might be useful for our analysis are: `App`, `Rating`, `Review`, `Install`, `Genre`.\n",
    "\n",
    "More details of the data sets can be found in these links: [AppleStore](https://www.kaggle.com/ramamet4/app-store-apple-data-set-10k-apps) and [Google Play](https://www.kaggle.com/lava18/google-play-store-apps/home)"
   ]
  },
  {
   "cell_type": "markdown",
   "metadata": {},
   "source": [
    "## Cleaning Data\n",
    " Before beginning our analysis, we need to make sure the data we analyze is accurate, otherwise the results of our analysis will be wrong. This means that we need to:\n",
    "<ul>\n",
    "<li>Detect inaccurate data, and correct or remove it.</li> \n",
    "<li>Detect duplicate data, and remove the duplicates.</li>"
   ]
  },
  {
   "cell_type": "markdown",
   "metadata": {},
   "source": [
    "We can see in one discussion of the Google Play data set that row 10472 has missed the `Rating` of the app. To check whether it is indeed incorrect, we will print the row 10472."
   ]
  },
  {
   "cell_type": "markdown",
   "metadata": {},
   "source": [
    "### Deleting Inaccurate Data\n",
    "We will check the row 10472 for finding errors."
   ]
  },
  {
   "cell_type": "code",
   "execution_count": 5,
   "metadata": {},
   "outputs": [
    {
     "name": "stdout",
     "output_type": "stream",
     "text": [
      "['App', 'Category', 'Rating', 'Reviews', 'Size', 'Installs', 'Type', 'Price', 'Content Rating', 'Genres', 'Last Updated', 'Current Ver', 'Android Ver']\n",
      "['Life Made WI-Fi Touchscreen Photo Frame', '1.9', '19', '3.0M', '1,000+', 'Free', '0', 'Everyone', '', 'February 11, 2018', '1.0.19', '4.0 and up']\n"
     ]
    }
   ],
   "source": [
    "print(google_header)\n",
    "print(google[10472])"
   ]
  },
  {
   "cell_type": "markdown",
   "metadata": {},
   "source": [
    "At row 10472 the term `Rating` was missed, so we delete this row by the `del` statement."
   ]
  },
  {
   "cell_type": "code",
   "execution_count": 6,
   "metadata": {
    "collapsed": true
   },
   "outputs": [],
   "source": [
    "del google[10472]"
   ]
  },
  {
   "cell_type": "markdown",
   "metadata": {},
   "source": [
    "To check whether the Apple Store data set has the same error with Google Play data set we use or not, we use a loop to find the row which has the different length with the header. "
   ]
  },
  {
   "cell_type": "code",
   "execution_count": 7,
   "metadata": {},
   "outputs": [],
   "source": [
    "for row in apple:\n",
    "    if len(row) != len(apple_header):\n",
    "        print(row)"
   ]
  },
  {
   "cell_type": "markdown",
   "metadata": {},
   "source": [
    "Affer running the code, no row was printed. That means there are no same errors in the Apple Store data set. "
   ]
  },
  {
   "cell_type": "markdown",
   "metadata": {},
   "source": [
    "### Deleting Duplicate Data\n",
    "In other dicussion about the Google Play data set, we can also see that this set has some duplicate data. For example, `Google Ads` has three entries."
   ]
  },
  {
   "cell_type": "code",
   "execution_count": 8,
   "metadata": {},
   "outputs": [
    {
     "name": "stdout",
     "output_type": "stream",
     "text": [
      "['Google Ads', 'BUSINESS', '4.3', '29313', '20M', '5,000,000+', 'Free', '0', 'Everyone', 'Business', 'July 30, 2018', '1.12.0', '4.0.3 and up']\n",
      "['Google Ads', 'BUSINESS', '4.3', '29313', '20M', '5,000,000+', 'Free', '0', 'Everyone', 'Business', 'July 30, 2018', '1.12.0', '4.0.3 and up']\n",
      "['Google Ads', 'BUSINESS', '4.3', '29331', '20M', '5,000,000+', 'Free', '0', 'Everyone', 'Business', 'July 30, 2018', '1.12.0', '4.0.3 and up']\n"
     ]
    }
   ],
   "source": [
    "for app in google: \n",
    "    name = app[0]\n",
    "    if name == 'Google Ads': \n",
    "        print(app)"
   ]
  },
  {
   "cell_type": "markdown",
   "metadata": {},
   "source": [
    "To count the number of duplicates, we:  \n",
    "<ul>\n",
    "<li>Created two lists: one for storing the name of `duplicate_apps`, and one for storing the name of `unique_apps`.</li>\n",
    "<li>Looped through the `google` data set (the Google Play data set), and for each iteration:\n",
    "We saved the app name to a variable named name.\n",
    "If name was already in the `unique_apps` list, we appended name to the `duplicate_apps` list.\n",
    "Else (if name wasn't already in the `unique_apps` list), we appended name to the `unique_apps` list. </li>\n",
    "</ul>\n",
    "We can see that there are total 1,181 cases where an apps occurs more than once"
   ]
  },
  {
   "cell_type": "code",
   "execution_count": 9,
   "metadata": {},
   "outputs": [
    {
     "name": "stdout",
     "output_type": "stream",
     "text": [
      "1181\n"
     ]
    }
   ],
   "source": [
    "duplicate_apps = []\n",
    "unique_apps = []\n",
    "for app in google: \n",
    "    name= app[0]\n",
    "    if name in unique_apps:\n",
    "        duplicate_apps.append(name)\n",
    "    else:\n",
    "        unique_apps.append(name)\n",
    "print(len(duplicate_apps))"
   ]
  },
  {
   "cell_type": "markdown",
   "metadata": {},
   "source": [
    "To remove the duplicates, we will: \n",
    "<ul>\n",
    "<li> Create a dictionary, where each key is a unique app name and the corresponding value is the highest number of reviews of that app. </li>"
   ]
  },
  {
   "cell_type": "code",
   "execution_count": 10,
   "metadata": {},
   "outputs": [],
   "source": [
    "reviews_max = {}\n",
    "for app in google:\n",
    "    name = app[0]\n",
    "    n_reviews = float(app[3])\n",
    "    if name in reviews_max and reviews_max[name]<n_reviews:\n",
    "        reviews_max[name] = n_reviews\n",
    "    if name not in reviews_max: \n",
    "        reviews_max[name] = n_reviews"
   ]
  },
  {
   "cell_type": "markdown",
   "metadata": {},
   "source": [
    "<ul>\n",
    "<li> Use the information stored in the dictionary to create a new data set and assign it to the list `google_clean` which will contain only the data of the unique apps. The length of this list is: `len(google) - len(duplicate_apps)` = 9,659."
   ]
  },
  {
   "cell_type": "code",
   "execution_count": 11,
   "metadata": {},
   "outputs": [
    {
     "name": "stdout",
     "output_type": "stream",
     "text": [
      "9659\n"
     ]
    }
   ],
   "source": [
    "google_clean = []\n",
    "already_added = []\n",
    "for app in google:\n",
    "    name = app[0]\n",
    "    n_reviews = float(app[3])\n",
    "    if n_reviews == reviews_max[name] and name not in already_added:\n",
    "        google_clean.append(app)\n",
    "        already_added.append(name)\n",
    "print(len(google_clean))\n",
    "google = google_clean"
   ]
  },
  {
   "cell_type": "markdown",
   "metadata": {},
   "source": [
    "### Removing Non-English Apps\n",
    "There are some apps which contain characters that doesn't belong to the set of common English charaters. \n",
    "\n",
    "We will write a function `check_string` to check whether the string contains this types of characters.  \n",
    "\n",
    "If the input string has a character that fall outside the ASCII range (0 - 127), then the function should return `False` (identify the string as non-English), otherwise it should return `True`."
   ]
  },
  {
   "cell_type": "code",
   "execution_count": 12,
   "metadata": {
    "collapsed": true
   },
   "outputs": [],
   "source": [
    "def check_string(string):\n",
    "    check = True\n",
    "    for letter in string:\n",
    "        if ord(letter) > 127 :\n",
    "            check = False\n",
    "    return check       "
   ]
  },
  {
   "cell_type": "markdown",
   "metadata": {},
   "source": [
    "We will use this function to check whether these app names are detected as English or non-English:\n",
    "\n",
    "`'Instagram'`\n",
    "`'爱奇艺PPS -《欢乐颂2》电视剧热播'`\n",
    "`'Docs To Go™ Free Office Suite'`\n",
    "`'Instachat 😜'`"
   ]
  },
  {
   "cell_type": "code",
   "execution_count": 13,
   "metadata": {},
   "outputs": [
    {
     "name": "stdout",
     "output_type": "stream",
     "text": [
      "True\n",
      "False\n",
      "False\n",
      "False\n"
     ]
    }
   ],
   "source": [
    "print(check_string('Instagram'))\n",
    "print(check_string( '爱奇艺PPS -《欢乐颂2》电视剧热播'))\n",
    "print(check_string('Docs To Go™ Free Office Suite'))\n",
    "print(check_string( 'Instachat 😜'))"
   ]
  },
  {
   "cell_type": "markdown",
   "metadata": {},
   "source": [
    "If we're going to use the function we've created, we'll lose useful data since many English apps will be incorrectly labeled as non-English.To minimize the impact of data loss, we'll only remove an app if its name has more than three characters with corresponding numbers falling outside the ASCII range.\n",
    "\n",
    "We will change the function to check out this properties of a string. "
   ]
  },
  {
   "cell_type": "code",
   "execution_count": 14,
   "metadata": {
    "collapsed": true
   },
   "outputs": [],
   "source": [
    "def check_string2(string):\n",
    "    check = True\n",
    "    nonEng_number = 0\n",
    "    for letter in string:\n",
    "        if ord(letter) > 127 :\n",
    "            nonEng_number += 1 \n",
    "    if nonEng_number > 3: \n",
    "        check = False\n",
    "    return check       "
   ]
  },
  {
   "cell_type": "markdown",
   "metadata": {},
   "source": [
    "Now we use the new function to check out with the app names: \n",
    "`'爱奇艺PPS -《欢乐颂2》电视剧热播'`\n",
    "`'Docs To Go™ Free Office Suite'`\n",
    "`'Instachat 😜'`"
   ]
  },
  {
   "cell_type": "code",
   "execution_count": 15,
   "metadata": {
    "scrolled": true
   },
   "outputs": [
    {
     "name": "stdout",
     "output_type": "stream",
     "text": [
      "False\n",
      "True\n",
      "True\n"
     ]
    }
   ],
   "source": [
    "print(check_string2( '爱奇艺PPS -《欢乐颂2》电视剧热播'))\n",
    "print(check_string2('Docs To Go™ Free Office Suite'))\n",
    "print(check_string2( 'Instachat 😜'))"
   ]
  },
  {
   "cell_type": "markdown",
   "metadata": {},
   "source": [
    "We will use the function `check_string` to filter out non-English apps apps from the data sets `google` and `apple` and assign the corresponding data to the new lists `google_new` and `apple_new`. \n",
    "\n",
    "After removing the non_English entries, the length of each data set are reduced. "
   ]
  },
  {
   "cell_type": "code",
   "execution_count": 16,
   "metadata": {},
   "outputs": [
    {
     "name": "stdout",
     "output_type": "stream",
     "text": [
      "Apple apps:  6183\n",
      "Google apps:  9614\n"
     ]
    }
   ],
   "source": [
    "apple_new = []\n",
    "for app in apple: \n",
    "    string = app[1]\n",
    "    if check_string2(string): \n",
    "        apple_new.append(app)\n",
    "google_new = []\n",
    "for app in google: \n",
    "    string = app[0]\n",
    "    if check_string2(string): \n",
    "        google_new.append(app)  \n",
    "print('Apple apps: ',len(apple_new))\n",
    "print('Google apps: ',len(google_new))\n",
    "apple = apple_new \n",
    "google = google_new"
   ]
  },
  {
   "cell_type": "markdown",
   "metadata": {},
   "source": [
    "### Isolating the Free Apps\n",
    "Our data sets contain both free and non-free apps; we'll need to isolate only the free apps for our analysis.\n",
    "\n",
    "We will store the free apps of Apple and Google Play in the correspond lists `apple_free` and `google_free`.  "
   ]
  },
  {
   "cell_type": "code",
   "execution_count": 17,
   "metadata": {
    "scrolled": true
   },
   "outputs": [
    {
     "name": "stdout",
     "output_type": "stream",
     "text": [
      "Apple apps:  3222\n",
      "Google apps:  8864\n"
     ]
    }
   ],
   "source": [
    "apple_free = []\n",
    "for app in apple:\n",
    "    price = float(app[4])\n",
    "    if price == 0: \n",
    "        apple_free.append(app)\n",
    "google_free = []\n",
    "for app in google:\n",
    "    price = app[7]\n",
    "    if price == '0': \n",
    "        google_free.append(app)\n",
    "print('Apple apps: ',len(apple_free))\n",
    "print('Google apps: ',len(google_free))\n",
    "apple = apple_free \n",
    "google = google_free"
   ]
  },
  {
   "cell_type": "markdown",
   "metadata": {},
   "source": [
    "## Most Common Apps by Genre: \n",
    "As we mentioned in the introduction, our aim is to determine the kinds of apps that are likely to attract more users because our revenue is highly influenced by the number of people using our apps.\n",
    "\n",
    "To minimize risks and overhead, our validation strategy for an app idea is comprised of three steps:\n",
    "<ol>\n",
    "<li>Build a minimal Android version of the app, and add it to Google Play.</li>\n",
    "<li>If the app has a good response from users, we develop it further.</li>\n",
    "<li> If the app is profitable after six months, we build an iOS version of the app and add it to the App Store. </li>\n",
    "Because our end goal is to add the app on both Google Play and the App Store, we need to find app profiles that are successful on both markets. \n",
    "\n",
    "Let's begin the analysis by getting a sense of what are the most common genres for each market. For this, we'll need to build frequency tables for a few columns in our data sets.\n",
    "\n",
    "To generate the tables we use collumns which contain the genre of apps. In the data set of Apple Store we use the column 11 and in the set of Google Play we use the column 1 and 9. "
   ]
  },
  {
   "cell_type": "code",
   "execution_count": 18,
   "metadata": {},
   "outputs": [
    {
     "name": "stdout",
     "output_type": "stream",
     "text": [
      "prime_genre\n"
     ]
    }
   ],
   "source": [
    "print(apple_header[11])"
   ]
  },
  {
   "cell_type": "code",
   "execution_count": 19,
   "metadata": {},
   "outputs": [
    {
     "name": "stdout",
     "output_type": "stream",
     "text": [
      "Genres\n"
     ]
    }
   ],
   "source": [
    "print(google_header[9])"
   ]
  },
  {
   "cell_type": "code",
   "execution_count": 20,
   "metadata": {},
   "outputs": [
    {
     "name": "stdout",
     "output_type": "stream",
     "text": [
      "Category\n"
     ]
    }
   ],
   "source": [
    "print(google_header[1])"
   ]
  },
  {
   "cell_type": "markdown",
   "metadata": {},
   "source": [
    "Now, we create the function named `freq_table()` return the frequency table (as a dictionary) of the genre of apps in the data sets"
   ]
  },
  {
   "cell_type": "code",
   "execution_count": 21,
   "metadata": {
    "collapsed": true
   },
   "outputs": [],
   "source": [
    "def freq_table(dataset, index):\n",
    "    n = len(dataset)\n",
    "    table = {}\n",
    "    list_genre = []\n",
    "    for app in dataset: \n",
    "        if app[index] not in list_genre:\n",
    "            list_genre.append(app[index])\n",
    "    for genre in list_genre:\n",
    "        freq = 0\n",
    "        for app in dataset:\n",
    "            if app[index] == genre:\n",
    "                freq += 1\n",
    "        table[genre] = round(freq/n*100,3)\n",
    "    return table"
   ]
  },
  {
   "cell_type": "markdown",
   "metadata": {},
   "source": [
    "And then we will use the function `display_table()` as below to display the frequency table that we haved generated by the above function. "
   ]
  },
  {
   "cell_type": "code",
   "execution_count": 22,
   "metadata": {
    "collapsed": true
   },
   "outputs": [],
   "source": [
    "def display_table(dataset, index):\n",
    "    table = freq_table(dataset, index)\n",
    "    table_display = []\n",
    "    for key in table:\n",
    "        key_val_as_tuple = (table[key], key)\n",
    "        table_display.append(key_val_as_tuple)\n",
    "\n",
    "    table_sorted = sorted(table_display, reverse = True)\n",
    "    for entry in table_sorted:\n",
    "        print(entry[1], ':', entry[0], '%')"
   ]
  },
  {
   "cell_type": "markdown",
   "metadata": {},
   "source": [
    "Now we try with the data set of  **Apple Store**. "
   ]
  },
  {
   "cell_type": "code",
   "execution_count": 23,
   "metadata": {
    "scrolled": false
   },
   "outputs": [
    {
     "name": "stdout",
     "output_type": "stream",
     "text": [
      "Games : 58.163 %\n",
      "Entertainment : 7.883 %\n",
      "Photo & Video : 4.966 %\n",
      "Education : 3.662 %\n",
      "Social Networking : 3.29 %\n",
      "Shopping : 2.607 %\n",
      "Utilities : 2.514 %\n",
      "Sports : 2.142 %\n",
      "Music : 2.048 %\n",
      "Health & Fitness : 2.017 %\n",
      "Productivity : 1.738 %\n",
      "Lifestyle : 1.583 %\n",
      "News : 1.335 %\n",
      "Travel : 1.241 %\n",
      "Finance : 1.117 %\n",
      "Weather : 0.869 %\n",
      "Food & Drink : 0.807 %\n",
      "Reference : 0.559 %\n",
      "Business : 0.528 %\n",
      "Book : 0.435 %\n",
      "Navigation : 0.186 %\n",
      "Medical : 0.186 %\n",
      "Catalogs : 0.124 %\n"
     ]
    }
   ],
   "source": [
    "display_table(apple,11)"
   ]
  },
  {
   "cell_type": "markdown",
   "metadata": {},
   "source": [
    "As the first glance, we can see that the most common genre is `Game`, nearly 60% out of the number of apps. The second one is `Entertainment`. \n",
    "\n",
    "We can also see the least common genre is `Catalogs` only 0.12%, the genre `Navigation` and `Medical` also have low percentage about 0.19%. \n",
    "\n",
    "Looking at the bigger picture, we found that most of the apps designed for entertainment (games, photo and video, social networking,...) and only a few percentage of apps designed for practical purposes (education, shopping, utilities, medical, naviagation,...).\n",
    "\n",
    "However, the fact that fun apps are the most numerous doesn't also imply that they also have the greatest number of users — the demand might not be the same as the offer."
   ]
  },
  {
   "cell_type": "markdown",
   "metadata": {},
   "source": [
    "And we also use this function to examine the frequency of `Category` and `Genre` of **Google Play** apps. \n",
    "\n",
    "**Category**"
   ]
  },
  {
   "cell_type": "code",
   "execution_count": 24,
   "metadata": {},
   "outputs": [
    {
     "name": "stdout",
     "output_type": "stream",
     "text": [
      "FAMILY : 18.908 %\n",
      "GAME : 9.725 %\n",
      "TOOLS : 8.461 %\n",
      "BUSINESS : 4.592 %\n",
      "LIFESTYLE : 3.903 %\n",
      "PRODUCTIVITY : 3.892 %\n",
      "FINANCE : 3.7 %\n",
      "MEDICAL : 3.531 %\n",
      "SPORTS : 3.396 %\n",
      "PERSONALIZATION : 3.317 %\n",
      "COMMUNICATION : 3.238 %\n",
      "HEALTH_AND_FITNESS : 3.08 %\n",
      "PHOTOGRAPHY : 2.944 %\n",
      "NEWS_AND_MAGAZINES : 2.798 %\n",
      "SOCIAL : 2.662 %\n",
      "TRAVEL_AND_LOCAL : 2.335 %\n",
      "SHOPPING : 2.245 %\n",
      "BOOKS_AND_REFERENCE : 2.144 %\n",
      "DATING : 1.861 %\n",
      "VIDEO_PLAYERS : 1.794 %\n",
      "MAPS_AND_NAVIGATION : 1.399 %\n",
      "FOOD_AND_DRINK : 1.241 %\n",
      "EDUCATION : 1.162 %\n",
      "ENTERTAINMENT : 0.959 %\n",
      "LIBRARIES_AND_DEMO : 0.936 %\n",
      "AUTO_AND_VEHICLES : 0.925 %\n",
      "HOUSE_AND_HOME : 0.824 %\n",
      "WEATHER : 0.801 %\n",
      "EVENTS : 0.711 %\n",
      "PARENTING : 0.654 %\n",
      "ART_AND_DESIGN : 0.643 %\n",
      "COMICS : 0.62 %\n",
      "BEAUTY : 0.598 %\n"
     ]
    }
   ],
   "source": [
    "display_table(google,1)"
   ]
  },
  {
   "cell_type": "markdown",
   "metadata": {},
   "source": [
    "The landscape seems significantly change when we look at the frequency table of categories on Google Play: there are not so many apps designed for fun, and the number of apps designed for practical purposes are increases, compare to the App Strore apps. "
   ]
  },
  {
   "cell_type": "markdown",
   "metadata": {},
   "source": [
    "** Genre **"
   ]
  },
  {
   "cell_type": "code",
   "execution_count": 25,
   "metadata": {},
   "outputs": [
    {
     "name": "stdout",
     "output_type": "stream",
     "text": [
      "Tools : 8.45 %\n",
      "Entertainment : 6.069 %\n",
      "Education : 5.347 %\n",
      "Business : 4.592 %\n",
      "Productivity : 3.892 %\n",
      "Lifestyle : 3.892 %\n",
      "Finance : 3.7 %\n",
      "Medical : 3.531 %\n",
      "Sports : 3.463 %\n",
      "Personalization : 3.317 %\n",
      "Communication : 3.238 %\n",
      "Action : 3.102 %\n",
      "Health & Fitness : 3.08 %\n",
      "Photography : 2.944 %\n",
      "News & Magazines : 2.798 %\n",
      "Social : 2.662 %\n",
      "Travel & Local : 2.324 %\n",
      "Shopping : 2.245 %\n",
      "Books & Reference : 2.144 %\n",
      "Simulation : 2.042 %\n",
      "Dating : 1.861 %\n",
      "Arcade : 1.85 %\n",
      "Video Players & Editors : 1.771 %\n",
      "Casual : 1.76 %\n",
      "Maps & Navigation : 1.399 %\n",
      "Food & Drink : 1.241 %\n",
      "Puzzle : 1.128 %\n",
      "Racing : 0.993 %\n",
      "Role Playing : 0.936 %\n",
      "Libraries & Demo : 0.936 %\n",
      "Auto & Vehicles : 0.925 %\n",
      "Strategy : 0.914 %\n",
      "House & Home : 0.824 %\n",
      "Weather : 0.801 %\n",
      "Events : 0.711 %\n",
      "Adventure : 0.677 %\n",
      "Comics : 0.609 %\n",
      "Beauty : 0.598 %\n",
      "Art & Design : 0.598 %\n",
      "Parenting : 0.496 %\n",
      "Card : 0.451 %\n",
      "Casino : 0.429 %\n",
      "Trivia : 0.417 %\n",
      "Educational;Education : 0.395 %\n",
      "Board : 0.384 %\n",
      "Educational : 0.372 %\n",
      "Education;Education : 0.338 %\n",
      "Word : 0.259 %\n",
      "Casual;Pretend Play : 0.237 %\n",
      "Music : 0.203 %\n",
      "Racing;Action & Adventure : 0.169 %\n",
      "Puzzle;Brain Games : 0.169 %\n",
      "Entertainment;Music & Video : 0.169 %\n",
      "Casual;Brain Games : 0.135 %\n",
      "Casual;Action & Adventure : 0.135 %\n",
      "Arcade;Action & Adventure : 0.124 %\n",
      "Action;Action & Adventure : 0.102 %\n",
      "Educational;Pretend Play : 0.09 %\n",
      "Simulation;Action & Adventure : 0.079 %\n",
      "Parenting;Education : 0.079 %\n",
      "Entertainment;Brain Games : 0.079 %\n",
      "Board;Brain Games : 0.079 %\n",
      "Parenting;Music & Video : 0.068 %\n",
      "Educational;Brain Games : 0.068 %\n",
      "Casual;Creativity : 0.068 %\n",
      "Art & Design;Creativity : 0.068 %\n",
      "Education;Pretend Play : 0.056 %\n",
      "Role Playing;Pretend Play : 0.045 %\n",
      "Education;Creativity : 0.045 %\n",
      "Role Playing;Action & Adventure : 0.034 %\n",
      "Puzzle;Action & Adventure : 0.034 %\n",
      "Entertainment;Creativity : 0.034 %\n",
      "Entertainment;Action & Adventure : 0.034 %\n",
      "Educational;Creativity : 0.034 %\n",
      "Educational;Action & Adventure : 0.034 %\n",
      "Education;Music & Video : 0.034 %\n",
      "Education;Brain Games : 0.034 %\n",
      "Education;Action & Adventure : 0.034 %\n",
      "Adventure;Action & Adventure : 0.034 %\n",
      "Video Players & Editors;Music & Video : 0.023 %\n",
      "Sports;Action & Adventure : 0.023 %\n",
      "Simulation;Pretend Play : 0.023 %\n",
      "Puzzle;Creativity : 0.023 %\n",
      "Music;Music & Video : 0.023 %\n",
      "Entertainment;Pretend Play : 0.023 %\n",
      "Casual;Education : 0.023 %\n",
      "Board;Action & Adventure : 0.023 %\n",
      "Video Players & Editors;Creativity : 0.011 %\n",
      "Trivia;Education : 0.011 %\n",
      "Travel & Local;Action & Adventure : 0.011 %\n",
      "Tools;Education : 0.011 %\n",
      "Strategy;Education : 0.011 %\n",
      "Strategy;Creativity : 0.011 %\n",
      "Strategy;Action & Adventure : 0.011 %\n",
      "Simulation;Education : 0.011 %\n",
      "Role Playing;Brain Games : 0.011 %\n",
      "Racing;Pretend Play : 0.011 %\n",
      "Puzzle;Education : 0.011 %\n",
      "Parenting;Brain Games : 0.011 %\n",
      "Music & Audio;Music & Video : 0.011 %\n",
      "Lifestyle;Pretend Play : 0.011 %\n",
      "Lifestyle;Education : 0.011 %\n",
      "Health & Fitness;Education : 0.011 %\n",
      "Health & Fitness;Action & Adventure : 0.011 %\n",
      "Entertainment;Education : 0.011 %\n",
      "Communication;Creativity : 0.011 %\n",
      "Comics;Creativity : 0.011 %\n",
      "Casual;Music & Video : 0.011 %\n",
      "Card;Action & Adventure : 0.011 %\n",
      "Books & Reference;Education : 0.011 %\n",
      "Art & Design;Pretend Play : 0.011 %\n",
      "Art & Design;Action & Adventure : 0.011 %\n",
      "Arcade;Pretend Play : 0.011 %\n",
      "Adventure;Education : 0.011 %\n"
     ]
    }
   ],
   "source": [
    "display_table(google,9)"
   ]
  },
  {
   "cell_type": "markdown",
   "metadata": {},
   "source": [
    "The difference between the `Category` and the `Genre` is not so obviously but at the first glance, we can see that the table of `Genre` is much more granular (it has more rows) than the table of `Category`. \n",
    "\n",
    "In conclusion, we found that the App Store focus on the `Games` and apps designed for entertainment while Google Play has more balanced landscape of both practical and for-fun apps. "
   ]
  },
  {
   "cell_type": "markdown",
   "metadata": {},
   "source": [
    "## Most Popular Apps by Genre on the App Store \n",
    "One way to find out what genres are the most popular is to calculate the average number of downloads for each app genre. Unfortunately, this information is missing for the App Store data set. As a workaround, we will deal with the number of user ratings which we can find in the column `rating_count_tot`. \n",
    "\n",
    "Let's start with calculating the average number of user ratings per app genre on the App Store. To do that, we'll need to:\n",
    "<ul>\n",
    "<li> Isolate the apps of each genre. </li>\n",
    "<li> Sum up the user ratings for the apps of that genre. </li>\n",
    "<li> Divide the sum by the number of apps belonging to that genre (not by the total number of apps). </li>\n",
    "</ul> \n",
    "We will store the average rating of each genre into the dictionary `rating_table`"
   ]
  },
  {
   "cell_type": "code",
   "execution_count": 26,
   "metadata": {
    "scrolled": true
   },
   "outputs": [],
   "source": [
    "genre_table = freq_table(apple,11)\n",
    "rating_table = {}\n",
    "for genre in genre_table: \n",
    "    total = 0\n",
    "    len_genre = 0\n",
    "    for app in apple:\n",
    "        genre_app = app[11]\n",
    "        if genre_app == genre : \n",
    "            total += float(app[5])\n",
    "            len_genre += 1\n",
    "    aver_rating = total/len_genre\n",
    "    rating_table[genre] = aver_rating "
   ]
  },
  {
   "cell_type": "markdown",
   "metadata": {},
   "source": [
    "Now, to examine the number of ratings easier, we will write a function to sort the table. \n",
    "\n",
    "The table after sorting is printed below. "
   ]
  },
  {
   "cell_type": "code",
   "execution_count": 27,
   "metadata": {
    "scrolled": true
   },
   "outputs": [
    {
     "name": "stdout",
     "output_type": "stream",
     "text": [
      "Navigation : 86090.33333333333\n",
      "Reference : 74942.11111111111\n",
      "Social Networking : 71548.34905660378\n",
      "Music : 57326.530303030304\n",
      "Weather : 52279.892857142855\n",
      "Book : 39758.5\n",
      "Food & Drink : 33333.92307692308\n",
      "Finance : 31467.944444444445\n",
      "Photo & Video : 28441.54375\n",
      "Travel : 28243.8\n",
      "Shopping : 26919.690476190477\n",
      "Health & Fitness : 23298.015384615384\n",
      "Sports : 23008.898550724636\n",
      "Games : 22788.6696905016\n",
      "News : 21248.023255813954\n",
      "Productivity : 21028.410714285714\n",
      "Utilities : 18684.456790123455\n",
      "Lifestyle : 16485.764705882353\n",
      "Entertainment : 14029.830708661417\n",
      "Business : 7491.117647058823\n",
      "Education : 7003.983050847458\n",
      "Catalogs : 4004.0\n",
      "Medical : 612.0\n"
     ]
    }
   ],
   "source": [
    "def sort_table(table):\n",
    "    table_display=[]\n",
    "    for key in table:\n",
    "        key_val_as_tuple = (table[key], key)\n",
    "        table_display.append(key_val_as_tuple)\n",
    "\n",
    "    table_sorted = sorted(table_display, reverse = True)\n",
    "    for entry in table_sorted:\n",
    "        print(entry[1], ':', entry[0])  \n",
    "sort_table(rating_table)"
   ]
  },
  {
   "cell_type": "markdown",
   "metadata": {},
   "source": [
    "As we see in the table above, the genre has highest number of average rating is `Navigation` but this genre is heavily influenced by Waze and Google Maps, which have a huge number of users. It may be one of the reasons why number of apps in this genre is very low. "
   ]
  },
  {
   "cell_type": "code",
   "execution_count": 28,
   "metadata": {
    "scrolled": true
   },
   "outputs": [
    {
     "name": "stdout",
     "output_type": "stream",
     "text": [
      "Waze - GPS Navigation, Maps & Real-time Traffic  :  345046\n",
      "Google Maps - Navigation & Transit  :  154911\n",
      "Geocaching®  :  12811\n",
      "CoPilot GPS – Car Navigation & Offline Maps  :  3582\n",
      "ImmobilienScout24: Real Estate Search in Germany  :  187\n",
      "Railway Route Search  :  5\n"
     ]
    }
   ],
   "source": [
    "for app in apple:\n",
    "    if app[11] == 'Navigation':\n",
    "        print(app[1],' : ', app[5])"
   ]
  },
  {
   "cell_type": "markdown",
   "metadata": {},
   "source": [
    "Move to some other genre which have large number of rating such as: `Social Networking`, `Music`, ... We can see that they are all influence by some immensely well-known apps like Facebook, Pinterest, Pandora. So they are not ideal genres to develop a new app for. "
   ]
  },
  {
   "cell_type": "code",
   "execution_count": 29,
   "metadata": {},
   "outputs": [
    {
     "name": "stdout",
     "output_type": "stream",
     "text": [
      "Facebook  :  2974676\n",
      "Pinterest  :  1061624\n",
      "Skype for iPhone  :  373519\n",
      "Messenger  :  351466\n",
      "Tumblr  :  334293\n",
      "WhatsApp Messenger  :  287589\n",
      "Kik  :  260965\n",
      "ooVoo – Free Video Call, Text and Voice  :  177501\n",
      "TextNow - Unlimited Text + Calls  :  164963\n",
      "Viber Messenger – Text & Call  :  164249\n",
      "Followers - Social Analytics For Instagram  :  112778\n",
      "MeetMe - Chat and Meet New People  :  97072\n",
      "We Heart It - Fashion, wallpapers, quotes, tattoos  :  90414\n",
      "InsTrack for Instagram - Analytics Plus More  :  85535\n",
      "Tango - Free Video Call, Voice and Chat  :  75412\n",
      "LinkedIn  :  71856\n",
      "Match™ - #1 Dating App.  :  60659\n",
      "Skype for iPad  :  60163\n",
      "POF - Best Dating App for Conversations  :  52642\n",
      "Timehop  :  49510\n",
      "Find My Family, Friends & iPhone - Life360 Locator  :  43877\n",
      "Whisper - Share, Express, Meet  :  39819\n",
      "Hangouts  :  36404\n",
      "LINE PLAY - Your Avatar World  :  34677\n",
      "WeChat  :  34584\n",
      "Badoo - Meet New People, Chat, Socialize.  :  34428\n",
      "Followers + for Instagram - Follower Analytics  :  28633\n",
      "GroupMe  :  28260\n",
      "Marco Polo Video Walkie Talkie  :  27662\n",
      "Miitomo  :  23965\n",
      "SimSimi  :  23530\n",
      "Grindr - Gay and same sex guys chat, meet and date  :  23201\n",
      "Wishbone - Compare Anything  :  20649\n",
      "imo video calls and chat  :  18841\n",
      "After School - Funny Anonymous School News  :  18482\n",
      "Quick Reposter - Repost, Regram and Reshare Photos  :  17694\n",
      "Weibo HD  :  16772\n",
      "Repost for Instagram  :  15185\n",
      "Live.me – Live Video Chat & Make Friends Nearby  :  14724\n",
      "Nextdoor  :  14402\n",
      "Followers Analytics for Instagram - InstaReport  :  13914\n",
      "YouNow: Live Stream Video Chat  :  12079\n",
      "FollowMeter for Instagram - Followers Tracking  :  11976\n",
      "LINE  :  11437\n",
      "eHarmony™ Dating App - Meet Singles  :  11124\n",
      "Discord - Chat for Gamers  :  9152\n",
      "QQ  :  9109\n",
      "Telegram Messenger  :  7573\n",
      "Weibo  :  7265\n",
      "Periscope - Live Video Streaming Around the World  :  6062\n",
      "Chat for Whatsapp - iPad Version  :  5060\n",
      "QQ HD  :  5058\n",
      "Followers Analysis Tool For Instagram App Free  :  4253\n",
      "live.ly - live video streaming  :  4145\n",
      "Houseparty - Group Video Chat  :  3991\n",
      "SOMA Messenger  :  3232\n",
      "Monkey  :  3060\n",
      "Down To Lunch  :  2535\n",
      "Flinch - Video Chat Staring Contest  :  2134\n",
      "Highrise - Your Avatar Community  :  2011\n",
      "LOVOO - Dating Chat  :  1985\n",
      "PlayStation®Messages  :  1918\n",
      "BOO! - Video chat camera with filters & stickers  :  1805\n",
      "Qzone  :  1649\n",
      "Chatous - Chat with new people  :  1609\n",
      "Kiwi - Q&A  :  1538\n",
      "GhostCodes - a discovery app for Snapchat  :  1313\n",
      "Jodel  :  1193\n",
      "FireChat  :  1037\n",
      "Google Duo - simple video calling  :  1033\n",
      "Fiesta by Tango - Chat & Meet New People  :  885\n",
      "Google Allo — smart messaging  :  862\n",
      "Peach — share vividly  :  727\n",
      "Hey! VINA - Where Women Meet New Friends  :  719\n",
      "Battlefield™ Companion  :  689\n",
      "All Devices for WhatsApp - Messenger for iPad  :  682\n",
      "Chat for Pokemon Go - GoChat  :  500\n",
      "IAmNaughty – Dating App to Meet New People Online  :  463\n",
      "Qzone HD  :  458\n",
      "Zenly - Locate your friends in realtime  :  427\n",
      "League of Legends Friends  :  420\n",
      "豆瓣  :  407\n",
      "Candid - Speak Your Mind Freely  :  398\n",
      "知乎  :  397\n",
      "Selfeo  :  366\n",
      "Fake-A-Location Free ™  :  354\n",
      "Popcorn Buzz - Free Group Calls  :  281\n",
      "Fam — Group video calling for iMessage  :  279\n",
      "QQ International  :  274\n",
      "Ameba  :  269\n",
      "SoundCloud Pulse: for creators  :  240\n",
      "Tantan  :  235\n",
      "Cougar Dating & Life Style App for Mature Women  :  213\n",
      "Rawr Messenger - Dab your chat  :  180\n",
      "WhenToPost: Best Time to Post Photos for Instagram  :  158\n",
      "Inke—Broadcast an amazing life  :  147\n",
      "Mustknow - anonymous video Q&A  :  53\n",
      "CTFxCmoji  :  39\n",
      "Lobi  :  36\n",
      "Chain: Collaborate On MyVideo Story/Group Video  :  35\n",
      "botman - Real time video chat  :  7\n",
      "BestieBox  :  0\n",
      "MATCH ON LINE chat  :  0\n",
      "niconico ch  :  0\n",
      "LINE BLOG  :  0\n",
      "bit-tube - Live Stream Video Chat  :  0\n"
     ]
    }
   ],
   "source": [
    "for app in apple:\n",
    "    if app[11] == 'Social Networking':\n",
    "        print(app[1],' : ', app[5])"
   ]
  },
  {
   "cell_type": "code",
   "execution_count": 30,
   "metadata": {
    "scrolled": true
   },
   "outputs": [
    {
     "name": "stdout",
     "output_type": "stream",
     "text": [
      "Pandora - Music & Radio  :  1126879\n",
      "Spotify Music  :  878563\n",
      "Shazam - Discover music, artists, videos & lyrics  :  402925\n",
      "iHeartRadio – Free Music & Radio Stations  :  293228\n",
      "SoundCloud - Music & Audio  :  135744\n",
      "Magic Piano by Smule  :  131695\n",
      "Smule Sing!  :  119316\n",
      "TuneIn Radio - MLB NBA Audiobooks Podcasts Music  :  110420\n",
      "Amazon Music  :  106235\n",
      "SoundHound Song Search & Music Player  :  82602\n",
      "Sonos Controller  :  48905\n",
      "Bandsintown Concerts  :  30845\n",
      "Karaoke - Sing Karaoke, Unlimited Songs!  :  28606\n",
      "My Mixtapez Music  :  26286\n",
      "Sing Karaoke Songs Unlimited with StarMaker  :  26227\n",
      "Ringtones for iPhone & Ringtone Maker  :  25403\n",
      "Musi - Unlimited Music For YouTube  :  25193\n",
      "AutoRap by Smule  :  18202\n",
      "Spinrilla - Mixtapes For Free  :  15053\n",
      "Napster - Top Music & Radio  :  14268\n",
      "edjing Mix:DJ turntable to remix and scratch music  :  13580\n",
      "Free Music - MP3 Streamer & Playlist Manager Pro  :  13443\n",
      "Free Piano app by Yokee  :  13016\n",
      "Google Play Music  :  10118\n",
      "Certified Mixtapes - Hip Hop Albums & Mixtapes  :  9975\n",
      "TIDAL  :  7398\n",
      "YouTube Music  :  7109\n",
      "Nicki Minaj: The Empire  :  5196\n",
      "Sounds app - Music And Friends  :  5126\n",
      "SongFlip - Free Music Streamer  :  5004\n",
      "Simple Radio - Live AM & FM Radio Stations  :  4787\n",
      "Deezer - Listen to your Favorite Music & Playlists  :  4677\n",
      "Ringtones for iPhone with Ringtone Maker  :  4013\n",
      "Bose SoundTouch  :  3687\n",
      "Amazon Alexa  :  3018\n",
      "DatPiff  :  2815\n",
      "Trebel Music - Unlimited Music Downloader  :  2570\n",
      "Free Music Play - Mp3 Streamer & Player  :  2496\n",
      "Acapella from PicPlayPost  :  2487\n",
      "Coach Guitar - Lessons & Easy Tabs For Beginners  :  2416\n",
      "Musicloud - MP3 and FLAC Music Player for Cloud Platforms.  :  2211\n",
      "Piano - Play Keyboard Music Games with Magic Tiles  :  1636\n",
      "Boom: Best Equalizer & Magical Surround Sound  :  1375\n",
      "Music Freedom - Unlimited Free MP3 Music Streaming  :  1246\n",
      "AmpMe - A Portable Social Party Music Speaker  :  1047\n",
      "Medly - Music Maker  :  933\n",
      "Bose Connect  :  915\n",
      "Music Memos  :  909\n",
      "UE BOOM  :  612\n",
      "LiveMixtapes  :  555\n",
      "NOISE  :  355\n",
      "MP3 Music Player & Streamer for Clouds  :  329\n",
      "Musical Video Maker - Create Music clips lip sync  :  320\n",
      "Cloud Music Player - Downloader & Playlist Manager  :  319\n",
      "Remixlive - Remix loops with pads  :  288\n",
      "QQ音乐HD  :  224\n",
      "Blocs Wave - Make & Record Music  :  158\n",
      "PlayGround • Music At Your Fingertips  :  150\n",
      "Music and Chill  :  135\n",
      "The Singing Machine Mobile Karaoke App  :  130\n",
      "radio.de - Der Radioplayer  :  64\n",
      "Free Music -  Player & Streamer  for Dropbox, OneDrive & Google Drive  :  46\n",
      "NRJ Radio  :  38\n",
      "Smart Music: Streaming Videos and Radio  :  17\n",
      "BOSS Tuner  :  13\n",
      "PetitLyrics  :  0\n"
     ]
    }
   ],
   "source": [
    "for app in apple:\n",
    "    if app[11] == 'Music':\n",
    "        print(app[1],' : ', app[5])"
   ]
  },
  {
   "cell_type": "markdown",
   "metadata": {},
   "source": [
    "Let see another genre with extremely high number of ratings, `Book`. "
   ]
  },
  {
   "cell_type": "code",
   "execution_count": 31,
   "metadata": {
    "scrolled": false
   },
   "outputs": [
    {
     "name": "stdout",
     "output_type": "stream",
     "text": [
      "Kindle – Read eBooks, Magazines & Textbooks  :  252076\n",
      "Audible – audio books, original series & podcasts  :  105274\n",
      "Color Therapy Adult Coloring Book for Adults  :  84062\n",
      "OverDrive – Library eBooks and Audiobooks  :  65450\n",
      "HOOKED - Chat Stories  :  47829\n",
      "BookShout: Read eBooks & Track Your Reading Goals  :  879\n",
      "Dr. Seuss Treasury — 50 best kids books  :  451\n",
      "Green Riding Hood  :  392\n",
      "Weirdwood Manor  :  197\n",
      "MangaZERO - comic reader  :  9\n",
      "ikouhoushi  :  0\n",
      "MangaTiara - love comic reader  :  0\n",
      "謎解き  :  0\n",
      "謎解き2016  :  0\n"
     ]
    }
   ],
   "source": [
    "for app in apple:\n",
    "    if app[11] == 'Book':\n",
    "        print(app[1],' : ', app[5])"
   ]
  },
  {
   "cell_type": "markdown",
   "metadata": {},
   "source": [
    "As we can see in the table below, some most popuplar apps in this genre are: Kindle, Audible, ... with not too heavy influences. On the other hands, Kindle also releases a particular device for reading books. It 's sometimes inconvenient because users need to bring both Kindle device and iPhone whenever they go outside and want to read e-books.\n",
    "\n",
    "Up to this point, we can develop a new apps to read ebooks on Iphone with a variety of functions like: write a review or read others reviews, take notes on the book, upload your own books, ... \n",
    "Or we can add the dictionary into the apps for user to read books in different languages. \n",
    "\n",
    "The genre `Book` is highly recommend for the developers. This genre also fit to the trend of App Store which focus on generating for-fun apps. \n",
    "\n",
    "Besides, some genre require high domain knowledge and special facilities such as: `Weather, Food & Drink, Finance`... are not recommended. "
   ]
  },
  {
   "cell_type": "markdown",
   "metadata": {},
   "source": [
    "## Most Popular Apps by Genre on Google Play \n",
    "We will use the data about the number of installs to examine the populatity of each genre of apps in Google Play. "
   ]
  },
  {
   "cell_type": "code",
   "execution_count": 32,
   "metadata": {
    "scrolled": true
   },
   "outputs": [
    {
     "name": "stdout",
     "output_type": "stream",
     "text": [
      "COMMUNICATION : 38456119.167247385\n",
      "VIDEO_PLAYERS : 24727872.452830188\n",
      "SOCIAL : 23253652.127118643\n",
      "PHOTOGRAPHY : 17840110.40229885\n",
      "PRODUCTIVITY : 16787331.344927534\n",
      "GAME : 15588015.603248259\n",
      "TRAVEL_AND_LOCAL : 13984077.710144928\n",
      "ENTERTAINMENT : 11640705.88235294\n",
      "TOOLS : 10801391.298666667\n",
      "NEWS_AND_MAGAZINES : 9549178.467741935\n",
      "BOOKS_AND_REFERENCE : 8767811.894736841\n",
      "SHOPPING : 7036877.311557789\n",
      "PERSONALIZATION : 5201482.6122448975\n",
      "WEATHER : 5074486.197183099\n",
      "HEALTH_AND_FITNESS : 4188821.9853479853\n",
      "MAPS_AND_NAVIGATION : 4056941.7741935486\n",
      "FAMILY : 3695641.8198090694\n",
      "SPORTS : 3638640.1428571427\n",
      "ART_AND_DESIGN : 1986335.0877192982\n",
      "FOOD_AND_DRINK : 1924897.7363636363\n",
      "EDUCATION : 1833495.145631068\n",
      "BUSINESS : 1712290.1474201474\n",
      "LIFESTYLE : 1437816.2687861272\n",
      "FINANCE : 1387692.475609756\n",
      "HOUSE_AND_HOME : 1331540.5616438356\n",
      "DATING : 854028.8303030303\n",
      "COMICS : 817657.2727272727\n",
      "AUTO_AND_VEHICLES : 647317.8170731707\n",
      "LIBRARIES_AND_DEMO : 638503.734939759\n",
      "PARENTING : 542603.6206896552\n",
      "BEAUTY : 513151.88679245283\n",
      "EVENTS : 253542.22222222222\n",
      "MEDICAL : 120550.61980830671\n"
     ]
    }
   ],
   "source": [
    "category_table = freq_table(google,1)\n",
    "install_table = {}\n",
    "for category in category_table:\n",
    "    total = 0 \n",
    "    len_category = 0\n",
    "    for app in google:\n",
    "        category_app = app[1]\n",
    "        if category_app == category: \n",
    "            string = app[5].replace('+','')\n",
    "            string = string.replace(',','')\n",
    "            total += float(string)\n",
    "            len_category += 1\n",
    "    install_table[category] = total/len_category\n",
    "sort_table(install_table)"
   ]
  },
  {
   "cell_type": "markdown",
   "metadata": {},
   "source": [
    "As we can see, the category which has the highest average number of install is `COMMUNICATION`. We will display the most popular apps belong to this category which has more than 100 million installs. "
   ]
  },
  {
   "cell_type": "code",
   "execution_count": 33,
   "metadata": {},
   "outputs": [
    {
     "name": "stdout",
     "output_type": "stream",
     "text": [
      "WhatsApp Messenger  :  1,000,000,000+\n",
      "imo beta free calls and text  :  100,000,000+\n",
      "Android Messages  :  100,000,000+\n",
      "Google Duo - High Quality Video Calls  :  500,000,000+\n",
      "Messenger – Text and Video Chat for Free  :  1,000,000,000+\n",
      "imo free video calls and chat  :  500,000,000+\n",
      "Skype - free IM & video calls  :  1,000,000,000+\n",
      "Who  :  100,000,000+\n",
      "GO SMS Pro - Messenger, Free Themes, Emoji  :  100,000,000+\n",
      "LINE: Free Calls & Messages  :  500,000,000+\n",
      "Google Chrome: Fast & Secure  :  1,000,000,000+\n",
      "Firefox Browser fast & private  :  100,000,000+\n",
      "UC Browser - Fast Download Private & Secure  :  500,000,000+\n",
      "Gmail  :  1,000,000,000+\n",
      "Hangouts  :  1,000,000,000+\n",
      "Messenger Lite: Free Calls & Messages  :  100,000,000+\n",
      "Kik  :  100,000,000+\n",
      "KakaoTalk: Free Calls & Text  :  100,000,000+\n",
      "Opera Mini - fast web browser  :  100,000,000+\n",
      "Opera Browser: Fast and Secure  :  100,000,000+\n",
      "Telegram  :  100,000,000+\n",
      "Truecaller: Caller ID, SMS spam blocking & Dialer  :  100,000,000+\n",
      "UC Browser Mini -Tiny Fast Private & Secure  :  100,000,000+\n",
      "Viber Messenger  :  500,000,000+\n",
      "WeChat  :  100,000,000+\n",
      "Yahoo Mail – Stay Organized  :  100,000,000+\n",
      "BBM - Free Calls & Messages  :  100,000,000+\n"
     ]
    }
   ],
   "source": [
    "for app in google:\n",
    "    if app[1] == 'COMMUNICATION'and (app[5] == '1,000,000,000+'\n",
    "                                or app[5] == '500,000,000+'\n",
    "                                or app[5] == '100,000,000+'):\n",
    "        print(app[0], ' : ', app[5])"
   ]
  },
  {
   "cell_type": "markdown",
   "metadata": {},
   "source": [
    "This category is dominated by a lot of apps like Whatsapp, Skype, LINE, ... and the number of apps which have over 100 million installs is very large. \n",
    "\n",
    "Look at another category `BOOKS_AND_REFERENCE`, the number of popular apps is very small. Only 5 apps has the number of installs over 100 million. "
   ]
  },
  {
   "cell_type": "code",
   "execution_count": 34,
   "metadata": {},
   "outputs": [
    {
     "name": "stdout",
     "output_type": "stream",
     "text": [
      "Google Play Books  :  1,000,000,000+\n",
      "Bible  :  100,000,000+\n",
      "Amazon Kindle  :  100,000,000+\n",
      "Wattpad 📖 Free Books  :  100,000,000+\n",
      "Audiobooks from Audible  :  100,000,000+\n"
     ]
    }
   ],
   "source": [
    "for app in google:\n",
    "    if app[1] == 'BOOKS_AND_REFERENCE'and (app[5] == '1,000,000,000+'\n",
    "                                or app[5] == '500,000,000+'\n",
    "                                or app[5] == '100,000,000+'):\n",
    "        print(app[0], ' : ', app[5])"
   ]
  },
  {
   "cell_type": "markdown",
   "metadata": {},
   "source": [
    "This category may be ideal for the developer to built new things. \n",
    "\n",
    "However, it looks like the market is already full of libraries, so we need to add some special features besides the raw version of the book, like we have mentioned above when we work with App Store data set. "
   ]
  },
  {
   "cell_type": "markdown",
   "metadata": {},
   "source": [
    "## Conclusion \n",
    "In this project, we have examine two sets of data to recommend the apps profile that will be profitable for company. \n",
    "\n",
    "To sum up, the genre/category about Books was highly recommended with some adding features to make the apps more convenient for users and different from tons of other apps which have existed before."
   ]
  }
 ],
 "metadata": {
  "kernelspec": {
   "display_name": "Python 3",
   "language": "python",
   "name": "python3"
  },
  "language_info": {
   "codemirror_mode": {
    "name": "ipython",
    "version": 3
   },
   "file_extension": ".py",
   "mimetype": "text/x-python",
   "name": "python",
   "nbconvert_exporter": "python",
   "pygments_lexer": "ipython3",
   "version": "3.7.3"
  }
 },
 "nbformat": 4,
 "nbformat_minor": 2
}
